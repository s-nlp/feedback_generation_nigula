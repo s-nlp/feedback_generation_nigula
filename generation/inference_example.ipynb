{
 "cells": [
  {
   "cell_type": "code",
   "execution_count": 1,
   "id": "bc4bfe7f-88f9-4d66-8697-e8fca9a6180d",
   "metadata": {},
   "outputs": [],
   "source": [
    "%load_ext autoreload\n",
    "%autoreload 2"
   ]
  },
  {
   "cell_type": "code",
   "execution_count": 2,
   "id": "d9f25c4c-8beb-4e97-b42f-0322b3c413c5",
   "metadata": {},
   "outputs": [],
   "source": [
    "from processing import preprocessing"
   ]
  },
  {
   "cell_type": "code",
   "execution_count": 40,
   "id": "b4f2bffa-7f5a-4efd-bdf4-011ea0004e03",
   "metadata": {},
   "outputs": [],
   "source": [
    "el = \"\"\"The smoke flow my face .\t10:17\tWhen the <verb> <<flow>> is used as an <intransitive verb> to express ''to move in a stream'', a <preposition> needs to be placed\"\"\""
   ]
  },
  {
   "cell_type": "code",
   "execution_count": 41,
   "id": "bb1d282b-f523-4dde-b86b-35ef6760b6aa",
   "metadata": {},
   "outputs": [],
   "source": [
    "# el = \"\"\"I want to stop smoking during driving bicycle .\t23:29\tA <gerund> does not normally follow the <preposition> <<during>>. Think of an expression using the <conjunction> 'while' instead of a <preposition>.\"\"\""
   ]
  },
  {
   "cell_type": "code",
   "execution_count": 42,
   "id": "0083cead-d03f-4d61-be3b-ef999729c2b3",
   "metadata": {},
   "outputs": [],
   "source": [
    "el_example = el.split(\"\\t\")"
   ]
  },
  {
   "cell_type": "code",
   "execution_count": 43,
   "id": "dc1e8489-e660-4cb4-b372-f16c773d4c82",
   "metadata": {},
   "outputs": [
    {
     "data": {
      "text/plain": [
       "['The smoke flow my face .',\n",
       " '10:17',\n",
       " \"When the <verb> <<flow>> is used as an <intransitive verb> to express ''to move in a stream'', a <preposition> needs to be placed\"]"
      ]
     },
     "execution_count": 43,
     "metadata": {},
     "output_type": "execute_result"
    }
   ],
   "source": [
    "el_example"
   ]
  },
  {
   "cell_type": "code",
   "execution_count": 44,
   "id": "3eefd417-8c25-41de-97eb-352d16087589",
   "metadata": {},
   "outputs": [
    {
     "data": {
      "text/plain": [
       "list"
      ]
     },
     "execution_count": 44,
     "metadata": {},
     "output_type": "execute_result"
    }
   ],
   "source": [
    "type(el_example[1].split(':'))"
   ]
  },
  {
   "cell_type": "code",
   "execution_count": 45,
   "id": "e40b3e20-0732-42e0-aca2-87ab669e70ee",
   "metadata": {},
   "outputs": [
    {
     "data": {
      "text/plain": [
       "'The smoke flow my face .'"
      ]
     },
     "execution_count": 45,
     "metadata": {},
     "output_type": "execute_result"
    }
   ],
   "source": [
    "el_example[0]"
   ]
  },
  {
   "cell_type": "code",
   "execution_count": 46,
   "id": "89408561-27ca-482c-81ea-f1a6666a0b24",
   "metadata": {},
   "outputs": [
    {
     "data": {
      "text/plain": [
       "'the smoke < < flow > > < < my > > face .'"
      ]
     },
     "execution_count": 46,
     "metadata": {},
     "output_type": "execute_result"
    }
   ],
   "source": [
    "preprocessing(el_example[0], el_example[1].split(':'))"
   ]
  },
  {
   "cell_type": "code",
   "execution_count": 36,
   "id": "2a8886c8-7f38-4a78-806a-0172304d12ad",
   "metadata": {},
   "outputs": [],
   "source": [
    "from generator import FeedbackGenerator"
   ]
  },
  {
   "cell_type": "code",
   "execution_count": 37,
   "id": "f65076ec-2bff-4c31-ba16-eb65f3b02039",
   "metadata": {},
   "outputs": [],
   "source": [
    "fg = FeedbackGenerator(cuda_index = False)"
   ]
  },
  {
   "cell_type": "code",
   "execution_count": 49,
   "id": "d3c5ae6d-cc35-48fe-9e97-45c8b20ebd2e",
   "metadata": {},
   "outputs": [
    {
     "name": "stdout",
     "output_type": "stream",
     "text": [
      "['the smoke < < flow > > < < my > > face .']\n",
      "[\"when the'' flow'' is described as a'' stream'', the expression is formed using the structure of'' flow'' + to infinitive >.\"]\n"
     ]
    },
    {
     "data": {
      "text/plain": [
       "\"When the'' flow'' is described as a'' stream'', the expression is formed using the structure of'' flow''+to <infinitive>.\""
      ]
     },
     "execution_count": 49,
     "metadata": {},
     "output_type": "execute_result"
    }
   ],
   "source": [
    "fg.paraphrase(el_example[0], [el_example[1].split(':')]) !!!!!!!!!!!!!!!!!!!!!!!!!?????????????????"
   ]
  },
  {
   "cell_type": "code",
   "execution_count": null,
   "id": "d995213a-9621-435c-b49b-30bd82015dd7",
   "metadata": {},
   "outputs": [],
   "source": []
  }
 ],
 "metadata": {
  "kernelspec": {
   "display_name": "Python 3",
   "language": "python",
   "name": "python3"
  },
  "language_info": {
   "codemirror_mode": {
    "name": "ipython",
    "version": 3
   },
   "file_extension": ".py",
   "mimetype": "text/x-python",
   "name": "python",
   "nbconvert_exporter": "python",
   "pygments_lexer": "ipython3",
   "version": "3.8.10"
  }
 },
 "nbformat": 4,
 "nbformat_minor": 5
}
