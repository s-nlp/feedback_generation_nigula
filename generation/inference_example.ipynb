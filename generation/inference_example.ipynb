{
 "cells": [
  {
   "cell_type": "code",
   "execution_count": 2,
   "id": "2a8886c8-7f38-4a78-806a-0172304d12ad",
   "metadata": {},
   "outputs": [
    {
     "name": "stderr",
     "output_type": "stream",
     "text": [
      "/usr/lib/python3/dist-packages/requests/__init__.py:89: RequestsDependencyWarning: urllib3 (1.26.9) or chardet (3.0.4) doesn't match a supported version!\n",
      "  warnings.warn(\"urllib3 ({}) or chardet ({}) doesn't match a supported \"\n"
     ]
    }
   ],
   "source": [
    "from generator import FeedbackGenerator"
   ]
  },
  {
   "cell_type": "code",
   "execution_count": 3,
   "id": "f65076ec-2bff-4c31-ba16-eb65f3b02039",
   "metadata": {},
   "outputs": [],
   "source": [
    "fg = FeedbackGenerator(cuda_index = 0) # pass cuda_index=False if you want to use the model in CPU"
   ]
  },
  {
   "cell_type": "code",
   "execution_count": 4,
   "id": "dfeb9d27-1bdd-4aba-bd4f-5056eb9823da",
   "metadata": {},
   "outputs": [],
   "source": [
    "text = \"The smoke flow my face .\"\n",
    "span = (10,17)"
   ]
  },
  {
   "cell_type": "code",
   "execution_count": 6,
   "id": "d3c5ae6d-cc35-48fe-9e97-45c8b20ebd2e",
   "metadata": {},
   "outputs": [
    {
     "data": {
      "text/plain": [
       "[\"When the <verb> <<flow>> is used as an <intransitive verb> to express'' to move in a stream'', a <preposition> needs to be placed to indicate the direction\"]"
      ]
     },
     "execution_count": 6,
     "metadata": {},
     "output_type": "execute_result"
    }
   ],
   "source": [
    "fg.get_feedback([text], [span]) "
   ]
  }
 ],
 "metadata": {
  "kernelspec": {
   "display_name": "Python 3",
   "language": "python",
   "name": "python3"
  },
  "language_info": {
   "codemirror_mode": {
    "name": "ipython",
    "version": 3
   },
   "file_extension": ".py",
   "mimetype": "text/x-python",
   "name": "python",
   "nbconvert_exporter": "python",
   "pygments_lexer": "ipython3",
   "version": "3.8.10"
  }
 },
 "nbformat": 4,
 "nbformat_minor": 5
}
