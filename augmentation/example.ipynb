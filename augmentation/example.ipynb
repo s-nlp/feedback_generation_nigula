{
 "cells": [
  {
   "cell_type": "code",
   "execution_count": 2,
   "id": "3a178c6e-812b-4540-8054-63572d7183f4",
   "metadata": {},
   "outputs": [
    {
     "name": "stderr",
     "output_type": "stream",
     "text": [
      "/usr/lib/python3/dist-packages/requests/__init__.py:89: RequestsDependencyWarning: urllib3 (1.26.9) or chardet (3.0.4) doesn't match a supported version!\n",
      "  warnings.warn(\"urllib3 ({}) or chardet ({}) doesn't match a supported \"\n"
     ]
    }
   ],
   "source": [
    "from augment import  get_smart_truncated_string, Augmenter"
   ]
  },
  {
   "cell_type": "code",
   "execution_count": 3,
   "id": "92f436b8-456b-4190-960e-21539ddb9e18",
   "metadata": {},
   "outputs": [],
   "source": [
    "text = 'They can help their father or mother about money that we must use in the university too .'\n",
    "offset = [37, 42]"
   ]
  },
  {
   "cell_type": "code",
   "execution_count": 4,
   "id": "1e941568-c65f-4464-a700-9474501fcaf4",
   "metadata": {},
   "outputs": [],
   "source": [
    "truncated_text = get_smart_truncated_string(text, offset)"
   ]
  },
  {
   "cell_type": "code",
   "execution_count": 5,
   "id": "e84a58b4-4327-4a0c-83f2-1345f0fa8e04",
   "metadata": {},
   "outputs": [
    {
     "data": {
      "text/plain": [
       "'they can help their father or mother about money'"
      ]
     },
     "execution_count": 5,
     "metadata": {},
     "output_type": "execute_result"
    }
   ],
   "source": [
    "truncated_text"
   ]
  },
  {
   "cell_type": "code",
   "execution_count": 8,
   "id": "a3f78828-8b2e-4b1f-a7b1-e452783b5ed6",
   "metadata": {},
   "outputs": [
    {
     "name": "stderr",
     "output_type": "stream",
     "text": [
      "/home/babakov/.local/lib/python3.8/site-packages/torch/cuda/__init__.py:145: UserWarning: \n",
      "NVIDIA GeForce RTX 3090 with CUDA capability sm_86 is not compatible with the current PyTorch installation.\n",
      "The current PyTorch install supports CUDA capabilities sm_37 sm_50 sm_60 sm_70.\n",
      "If you want to use the NVIDIA GeForce RTX 3090 GPU with PyTorch, please check the instructions at https://pytorch.org/get-started/locally/\n",
      "\n",
      "  warnings.warn(incompatible_device_warn.format(device_name, capability, \" \".join(arch_list), device_name))\n"
     ]
    }
   ],
   "source": [
    "aug = Augmenter(cuda_index = 4)"
   ]
  },
  {
   "cell_type": "code",
   "execution_count": 9,
   "id": "63d6a57b-8226-4d36-bcd8-dce4b0163b71",
   "metadata": {},
   "outputs": [
    {
     "name": "stderr",
     "output_type": "stream",
     "text": [
      "The attention mask and the pad token id were not set. As a consequence, you may observe unexpected behavior. Please pass your input's `attention_mask` to obtain reliable results.\n",
      "Setting `pad_token_id` to `eos_token_id`:50256 for open-end generation.\n"
     ]
    },
    {
     "data": {
      "text/plain": [
       "[{'generated_text': \"they can help their father or mother about money, can't we, then? I\\nwill have you sent to boarding school, when I know that you will be\\nsafe with me at night. We can't keep them here all the time; but we\\ncan keep them away from him, and so he won't see. And you will leave\\nout the worst part of your story. I can't bear to think of your being\\ntouched by something so wicked and vile; and\"}]"
      ]
     },
     "execution_count": 9,
     "metadata": {},
     "output_type": "execute_result"
    }
   ],
   "source": [
    "aug.augment('they can help their father or mother about money', is_text_truncated = True)"
   ]
  },
  {
   "cell_type": "code",
   "execution_count": 10,
   "id": "f27abc69-b707-4080-96d8-c4e8fb84ca33",
   "metadata": {},
   "outputs": [
    {
     "name": "stderr",
     "output_type": "stream",
     "text": [
      "The attention mask and the pad token id were not set. As a consequence, you may observe unexpected behavior. Please pass your input's `attention_mask` to obtain reliable results.\n",
      "Setting `pad_token_id` to `eos_token_id`:50256 for open-end generation.\n"
     ]
    },
    {
     "data": {
      "text/plain": [
       "[{'generated_text': \"they can help their father or mother about money, because their\\n                    parents can't provide them with enough money to survive.”\\n                            The third child of [R.F. and B.M.], [T.M.], was born in 2015. At\"}]"
      ]
     },
     "execution_count": 10,
     "metadata": {},
     "output_type": "execute_result"
    }
   ],
   "source": [
    "aug.augment(text, is_text_truncated = False, err_word_offset = offset)"
   ]
  }
 ],
 "metadata": {
  "kernelspec": {
   "display_name": "Python 3",
   "language": "python",
   "name": "python3"
  },
  "language_info": {
   "codemirror_mode": {
    "name": "ipython",
    "version": 3
   },
   "file_extension": ".py",
   "mimetype": "text/x-python",
   "name": "python",
   "nbconvert_exporter": "python",
   "pygments_lexer": "ipython3",
   "version": "3.8.10"
  }
 },
 "nbformat": 4,
 "nbformat_minor": 5
}
