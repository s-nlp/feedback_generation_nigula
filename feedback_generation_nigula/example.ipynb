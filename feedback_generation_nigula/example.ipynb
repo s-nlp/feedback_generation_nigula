{
 "cells": [
  {
   "cell_type": "markdown",
   "id": "7db4b6ab-7d9e-4d42-81b3-34f70699081e",
   "metadata": {},
   "source": [
    "# Generation"
   ]
  },
  {
   "cell_type": "code",
   "execution_count": 1,
   "id": "2a8886c8-7f38-4a78-806a-0172304d12ad",
   "metadata": {},
   "outputs": [
    {
     "name": "stderr",
     "output_type": "stream",
     "text": [
      "/usr/lib/python3/dist-packages/requests/__init__.py:89: RequestsDependencyWarning: urllib3 (1.26.9) or chardet (3.0.4) doesn't match a supported version!\n",
      "  warnings.warn(\"urllib3 ({}) or chardet ({}) doesn't match a supported \"\n"
     ]
    }
   ],
   "source": [
    "from feedback_generation_nigula.generator import FeedbackGenerator"
   ]
  },
  {
   "cell_type": "code",
   "execution_count": 2,
   "id": "f65076ec-2bff-4c31-ba16-eb65f3b02039",
   "metadata": {},
   "outputs": [],
   "source": [
    "fg = FeedbackGenerator(cuda_index = 0) # pass cuda_index=False if you want to use the model in CPU"
   ]
  },
  {
   "cell_type": "code",
   "execution_count": 3,
   "id": "dfeb9d27-1bdd-4aba-bd4f-5056eb9823da",
   "metadata": {},
   "outputs": [],
   "source": [
    "text = \"The smoke flow my face .\"\n",
    "span = (10,17)"
   ]
  },
  {
   "cell_type": "code",
   "execution_count": 4,
   "id": "d3c5ae6d-cc35-48fe-9e97-45c8b20ebd2e",
   "metadata": {},
   "outputs": [
    {
     "data": {
      "text/plain": [
       "[\"When the <verb> <<flow>> is used as an <intransitive verb> to express'' to move in a stream'', a <preposition> needs to be placed to indicate the direction\"]"
      ]
     },
     "execution_count": 4,
     "metadata": {},
     "output_type": "execute_result"
    }
   ],
   "source": [
    "fg.get_feedback([text], [span]) "
   ]
  },
  {
   "cell_type": "markdown",
   "id": "87912d31-47d7-42c4-ab68-156d80ea7054",
   "metadata": {},
   "source": [
    "# Augmentation"
   ]
  },
  {
   "cell_type": "code",
   "execution_count": 1,
   "id": "15a0a582-5472-429c-bd1a-851014464efa",
   "metadata": {},
   "outputs": [
    {
     "name": "stderr",
     "output_type": "stream",
     "text": [
      "/usr/lib/python3/dist-packages/requests/__init__.py:89: RequestsDependencyWarning: urllib3 (1.26.9) or chardet (3.0.4) doesn't match a supported version!\n",
      "  warnings.warn(\"urllib3 ({}) or chardet ({}) doesn't match a supported \"\n"
     ]
    }
   ],
   "source": [
    "from feedback_generation_nigula.augment import  get_smart_truncated_string, Augmenter"
   ]
  },
  {
   "cell_type": "code",
   "execution_count": 2,
   "id": "6ebfa734-b808-4cda-ae44-33f68dfde65a",
   "metadata": {},
   "outputs": [],
   "source": [
    "text = 'They can help their father or mother about money that we must use in the university too .'\n",
    "offset = [37, 42]"
   ]
  },
  {
   "cell_type": "code",
   "execution_count": 3,
   "id": "c2a139b3-0e5e-4a7c-b97a-c2bf3aec1b1d",
   "metadata": {},
   "outputs": [],
   "source": [
    "truncated_text = get_smart_truncated_string(text, offset)"
   ]
  },
  {
   "cell_type": "code",
   "execution_count": 4,
   "id": "b880f4df-da9c-4c49-be8c-641434efd84b",
   "metadata": {},
   "outputs": [
    {
     "data": {
      "text/plain": [
       "'they can help their father or mother about money'"
      ]
     },
     "execution_count": 4,
     "metadata": {},
     "output_type": "execute_result"
    }
   ],
   "source": [
    "truncated_text"
   ]
  },
  {
   "cell_type": "code",
   "execution_count": null,
   "id": "a6fe6610-9ea7-4da0-b613-546fd62d95a7",
   "metadata": {},
   "outputs": [],
   "source": [
    "aug = Augmenter(cuda_index = 0)"
   ]
  },
  {
   "cell_type": "code",
   "execution_count": 6,
   "id": "05c793f2-9977-452d-8e21-6bc9b9696fcc",
   "metadata": {},
   "outputs": [
    {
     "name": "stderr",
     "output_type": "stream",
     "text": [
      "Setting `pad_token_id` to `eos_token_id`:50256 for open-end generation.\n"
     ]
    },
    {
     "data": {
      "text/plain": [
       "[{'generated_text': \"they can help their father or mother about money.\\n\\nWhat I found really great this year is the quality of the games. The games are getting better and better the farther\\nI reach. I haven't picked a favorite yet, but I will most likely have a set of favorites this year, and then I want to play\\nthe next game as much as I can. I love the different game types and different types of playing styles in a game. I'm really enjoying\\nthe MOBA\"}]"
      ]
     },
     "execution_count": 6,
     "metadata": {},
     "output_type": "execute_result"
    }
   ],
   "source": [
    "aug.augment(truncated_text, is_text_truncated = True)"
   ]
  },
  {
   "cell_type": "code",
   "execution_count": 7,
   "id": "d528e233-7612-4722-a5f0-367e51f5c0e1",
   "metadata": {},
   "outputs": [
    {
     "name": "stderr",
     "output_type": "stream",
     "text": [
      "Setting `pad_token_id` to `eos_token_id`:50256 for open-end generation.\n"
     ]
    },
    {
     "data": {
      "text/plain": [
       "[{'generated_text': 'they can help their father or mother about money, help them to\\ndo the housework, to take them in or out of the house and put them to\\nwork, keep them from having to keep up the street and from being\\nobliged to take care of their mother and father, and to help them to\\nfinish school. And the poor mother or father shall have the same\\nallowance. The mother shall have no less; the father shall have no\\nless; but'}]"
      ]
     },
     "execution_count": 7,
     "metadata": {},
     "output_type": "execute_result"
    }
   ],
   "source": [
    "aug.augment(text, is_text_truncated = False, err_word_offset = offset)"
   ]
  }
 ],
 "metadata": {
  "kernelspec": {
   "display_name": "Python 3",
   "language": "python",
   "name": "python3"
  },
  "language_info": {
   "codemirror_mode": {
    "name": "ipython",
    "version": 3
   },
   "file_extension": ".py",
   "mimetype": "text/x-python",
   "name": "python",
   "nbconvert_exporter": "python",
   "pygments_lexer": "ipython3",
   "version": "3.8.10"
  }
 },
 "nbformat": 4,
 "nbformat_minor": 5
}
